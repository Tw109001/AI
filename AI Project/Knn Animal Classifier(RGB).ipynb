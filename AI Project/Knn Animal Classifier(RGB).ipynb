{
 "cells": [
  {
   "cell_type": "code",
   "execution_count": 1,
   "id": "a24a4989-614c-4147-8b8c-b8dcee9fe3f2",
   "metadata": {},
   "outputs": [],
   "source": [
    "import os\n",
    "import cv2\n",
    "import numpy as np\n",
    "from sklearn.model_selection import train_test_split\n",
    "from sklearn.neighbors import KNeighborsClassifier\n",
    "from sklearn.metrics import accuracy_score\n",
    "import logging\n",
    "import tkinter as tk\n",
    "from tkinter import filedialog, Label, Button\n",
    "from PIL import Image, ImageTk"
   ]
  },
  {
   "cell_type": "code",
   "execution_count": 2,
   "id": "0a55b92d-0ab8-4520-96a3-e872c3a08680",
   "metadata": {},
   "outputs": [],
   "source": [
    "logging.basicConfig(level=logging.INFO, format=' %(asctime)s - %(levelname)s - %(message)s')"
   ]
  },
  {
   "cell_type": "code",
   "execution_count": 3,
   "id": "adce79ce-bf59-4442-b91d-00432103c12f",
   "metadata": {},
   "outputs": [],
   "source": [
    "def load_images(folder_path):\n",
    "    logging.info(\"loading images...\")\n",
    "    images=[]\n",
    "    labels=[]\n",
    "    classes=os.listdir(folder_path)\n",
    "\n",
    "    for label,class_name in enumerate(classes):\n",
    "        class_path=os.path.join(folder_path,class_name)\n",
    "        if not os.path.isdir(class_path):\n",
    "            logging.warning(f\"this file is not folder:{class_path}\")\n",
    "            continue\n",
    "\n",
    "        for image_file in os.listdir(class_path):\n",
    "            image_path=os.path.join(class_path,image_file)\n",
    "            try:\n",
    "                image=cv2.imread(image_path,cv2.IMREAD_COLOR)\n",
    "                if image is not None:\n",
    "                    image=cv2.resize(image,(64,64))\n",
    "                    image=image.flatten() / 255\n",
    "                    images.append(image)\n",
    "                    labels.append(label)\n",
    "                else:\n",
    "                    logging.warning(f\"cant open image from:{image_path}\")\n",
    "            except Exception as e:\n",
    "                logging.error(f\"cant process from:{image_path}\")\n",
    "    logging.info(\"loading images are finished\")\n",
    "    return np.array(images),np.array(labels), classes\n",
    "\n",
    "        "
   ]
  },
  {
   "cell_type": "code",
   "execution_count": 4,
   "id": "69824bc4-d54d-47dd-8867-06652d028f3f",
   "metadata": {},
   "outputs": [
    {
     "name": "stderr",
     "output_type": "stream",
     "text": [
      " 2025-01-12 09:15:04,270 - INFO - loading image from data folder\n",
      " 2025-01-12 09:15:04,271 - INFO - loading images...\n",
      " 2025-01-12 09:15:08,940 - WARNING - this file is not folder:C:\\KNN Animal Classifier\\New Text Document.txt\n",
      " 2025-01-12 09:15:08,940 - INFO - loading images are finished\n",
      " 2025-01-12 09:15:08,966 - INFO - completed\n",
      " 2025-01-12 09:15:08,966 - INFO - number of samples:888 class names['cat', 'dog', 'New Text Document.txt']\n"
     ]
    }
   ],
   "source": [
    "data_folder=r\"C:\\KNN Animal Classifier\"\n",
    "logging.info(\"loading image from data folder\")\n",
    "X,y,class_names=load_images(data_folder)\n",
    "logging.info(\"completed\")\n",
    "logging.info(f\"number of samples:{len(X)} class names{class_names}\")"
   ]
  },
  {
   "cell_type": "code",
   "execution_count": 5,
   "id": "06e48bde-a585-4eaa-aec2-1653ac696adf",
   "metadata": {},
   "outputs": [
    {
     "name": "stderr",
     "output_type": "stream",
     "text": [
      " 2025-01-12 09:15:10,118 - INFO - splitting data\n",
      " 2025-01-12 09:15:10,140 - INFO - training samples: 710, testing samples: 178\n"
     ]
    }
   ],
   "source": [
    "logging.info(\"splitting data\")\n",
    "X_train,X_test,y_train,y_test=train_test_split(X,y,test_size=0.2,random_state=42)\n",
    "logging.info(f\"training samples: {len(X_train)}, testing samples: {len(X_test)}\")"
   ]
  },
  {
   "cell_type": "code",
   "execution_count": 6,
   "id": "3bd298f6-5cac-48f5-82ba-339c75def27a",
   "metadata": {},
   "outputs": [
    {
     "name": "stderr",
     "output_type": "stream",
     "text": [
      " 2025-01-12 09:15:12,466 - INFO - training AI:...\n",
      " 2025-01-12 09:15:12,477 - INFO - finished\n"
     ]
    }
   ],
   "source": [
    "logging.info(\"training AI:...\")\n",
    "knn=KNeighborsClassifier(n_neighbors=2)\n",
    "knn=knn.fit(X_train,y_train)\n",
    "logging.info(\"finished\")"
   ]
  },
  {
   "cell_type": "code",
   "execution_count": 7,
   "id": "25b9b9a9-5cef-461b-98c1-50003abc56b7",
   "metadata": {},
   "outputs": [
    {
     "name": "stderr",
     "output_type": "stream",
     "text": [
      " 2025-01-12 09:15:17,646 - INFO - testing AI accuracy...\n",
      " 2025-01-12 09:15:17,780 - INFO - AI accuracy:70.79\n"
     ]
    }
   ],
   "source": [
    "logging.info(\"testing AI accuracy...\")\n",
    "y_pred = knn.predict(X_test)\n",
    "accuracy=accuracy_score(y_test,y_pred)\n",
    "logging.info(f\"AI accuracy:{accuracy*100:.2f}\")"
   ]
  },
  {
   "cell_type": "code",
   "execution_count": 8,
   "id": "a026f7ab-4fa5-445a-a5d4-fd3b326215ed",
   "metadata": {},
   "outputs": [],
   "source": [
    "def predict_new_image(image_path):\n",
    "    try:\n",
    "        image=cv2.imread(image_path,cv2.IMREAD_COLOR)\n",
    "\n",
    "        \n",
    "        if image is None:\n",
    "            logging.error(\"cant process image\")\n",
    "            return None\n",
    "\n",
    "            \n",
    "        image=cv2.resize(image,(64,64))\n",
    "        image=image.flatten() /255\n",
    "        prediction=knn.predict([image])\n",
    "        logging.info(f\"finished,image is {class_names[prediction[0]]}\")\n",
    "        return class_names[prediction[0]]\n",
    "\n",
    "        \n",
    "    except Exception as e:\n",
    "        logging.error(f\"cant open {image}\")\n",
    "        return None\n",
    "\n",
    "    "
   ]
  },
  {
   "cell_type": "code",
   "execution_count": 9,
   "id": "dc761327-240c-46c0-98aa-30c7bd9b006c",
   "metadata": {},
   "outputs": [],
   "source": [
    "#predict_new_image(r\"C:\\KNN Test\\cat\\1.jpg\")"
   ]
  },
  {
   "cell_type": "code",
   "execution_count": 10,
   "id": "ee03520e-e686-4204-b9e5-493e737d9201",
   "metadata": {},
   "outputs": [],
   "source": [
    "def predict_image_gui(image_path):\n",
    "    try:\n",
    "        img = cv2.imread(image_path, cv2.IMREAD_COLOR)\n",
    "        if img is None:\n",
    "            return \"invalid Image\"\n",
    "        img = cv2.resize(img, (64, 64)).flatten() / 255.0\n",
    "        prediction = knn.predict([img])\n",
    "        return class_names[prediction[0]]\n",
    "    except Exception as e:\n",
    "        logging.error(f\"Error in GUI prediction: {e}\")\n",
    "        return \"error\"\n",
    "\n",
    "def select_image():\n",
    "    file_path = filedialog.askopenfilename()\n",
    "    if not file_path:\n",
    "        return\n",
    "\n",
    "\n",
    "    image = Image.open(file_path) \n",
    "    image = image.resize((300, 300))  \n",
    "    img_tk = ImageTk.PhotoImage(image)\n",
    "\n",
    "\n",
    "    img_label.config(image=img_tk)\n",
    "    img_label.image = img_tk\n",
    "\n",
    "\n",
    "    prediction = predict_image_gui(file_path)\n",
    "    result_label.config(text=f\"Animal: {prediction}\")\n",
    "\n",
    "\n",
    "\n",
    "root = tk.Tk()\n",
    "root.title(\"Animal Classifier\")\n",
    "root.geometry(\"400x600\")\n",
    "btn = Button(root, text=\"Select Image\", command=select_image, bg=\"blue\", fg=\"white\", font=(\"Arial\", 12))\n",
    "btn.pack(pady=10)\n",
    "img_label = Label(root)\n",
    "img_label.pack()\n",
    "result_label = Label(root, text=\"Animal: \", font=(\"Arial\", 14))\n",
    "result_label.pack(pady=20)\n",
    "root.mainloop()"
   ]
  },
  {
   "cell_type": "code",
   "execution_count": null,
   "id": "002c7893-6da7-4d92-aa6f-e7ddcde69751",
   "metadata": {},
   "outputs": [],
   "source": []
  }
 ],
 "metadata": {
  "kernelspec": {
   "display_name": "Python 3 (ipykernel)",
   "language": "python",
   "name": "python3"
  },
  "language_info": {
   "codemirror_mode": {
    "name": "ipython",
    "version": 3
   },
   "file_extension": ".py",
   "mimetype": "text/x-python",
   "name": "python",
   "nbconvert_exporter": "python",
   "pygments_lexer": "ipython3",
   "version": "3.12.0"
  }
 },
 "nbformat": 4,
 "nbformat_minor": 5
}
